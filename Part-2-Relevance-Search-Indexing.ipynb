{
 "cells": [
  {
   "cell_type": "markdown",
   "metadata": {},
   "source": [
    "## Program to parse input document corpus, create index and store it in a file"
   ]
  },
  {
   "cell_type": "code",
   "execution_count": 1,
   "metadata": {},
   "outputs": [],
   "source": [
    "from bs4 import BeautifulSoup\n",
    "import string\n",
    "import re\n",
    "from nltk.tokenize import word_tokenize\n",
    "from collections import Counter\n",
    "import matplotlib.pyplot as plt\n",
    "import nltk as nltk\n",
    "import numpy as np\n",
    "import pickle\n",
    "from scipy.sparse import coo_matrix"
   ]
  },
  {
   "cell_type": "code",
   "execution_count": 2,
   "metadata": {},
   "outputs": [],
   "source": [
    "# decalre names of all files\n",
    "data_file_path = \".\\\\data\\\\wiki_05\"\n",
    "\n",
    "# these are the output files\n",
    "vocabulary_index_file_path = \".\\\\data\\\\vocabulary.pkl\"\n",
    "document_index_file_path = \".\\\\data\\\\file_index.pkl\"\n",
    "inverted_index_file_path = \".\\\\data\\inverted_index.pkl\""
   ]
  },
  {
   "cell_type": "markdown",
   "metadata": {},
   "source": [
    "# import the text corpora from disk and perform pre-processing steps"
   ]
  },
  {
   "cell_type": "code",
   "execution_count": 3,
   "metadata": {},
   "outputs": [],
   "source": [
    "input_file = open(data_file_path, \"rt\", encoding=\"utf-8\")\n",
    "input_data = input_file.read()\n",
    "input_file.close()"
   ]
  },
  {
   "cell_type": "markdown",
   "metadata": {},
   "source": [
    "# Remove html and other tags."
   ]
  },
  {
   "cell_type": "code",
   "execution_count": 4,
   "metadata": {},
   "outputs": [],
   "source": [
    "souped_data = BeautifulSoup(input_data)"
   ]
  },
  {
   "cell_type": "code",
   "execution_count": 5,
   "metadata": {},
   "outputs": [],
   "source": [
    "# Generate vocabulary, document list and inverted index\n",
    "vocabulary_dict = dict()\n",
    "document_dict = dict()\n",
    "all_unique_words = set(word_tokenize(souped_data.get_text().replace(\"\\n\", \" \").lower()))\n",
    "rows = []\n",
    "cols = []\n",
    "token_counts = []\n",
    "\n",
    "for doc in souped_data.find_all('doc'):\n",
    "    doc_id = doc['id']\n",
    "    if document_dict.get(doc_id) is None:\n",
    "        document_dict[doc_id] = len(document_dict.items())\n",
    "    # Remove html and other tags.\n",
    "    doc_data = re.sub(r'[^\\w\\s]', ' ', doc.get_text().replace(\"\\n\", \" \").lower())\n",
    "    # Tokenize the text. This will get rid of extra spaces as well.\n",
    "    tokens = word_tokenize(doc_data)\n",
    "    column_data = Counter(tokens)\n",
    "    for token, count in column_data.items():\n",
    "        if vocabulary_dict.get(token) is None:\n",
    "            vocabulary_dict[token] = len(vocabulary_dict.items())\n",
    "        row_id = vocabulary_dict[token]\n",
    "        rows.append(row_id)\n",
    "        col_id = document_dict[doc_id]\n",
    "        cols.append(col_id)\n",
    "        token_counts.append(count)\n",
    "inverted_index_matrix = coo_matrix((token_counts, (rows, cols)))"
   ]
  },
  {
   "cell_type": "markdown",
   "metadata": {},
   "source": [
    "# Store the index in a file"
   ]
  },
  {
   "cell_type": "code",
   "execution_count": 6,
   "metadata": {},
   "outputs": [],
   "source": [
    "# store vocabulary index\n",
    "pickle_file = open(vocabulary_index_file_path, \"wb\")\n",
    "pickle.dump(vocabulary_dict, pickle_file)\n",
    "pickle_file.close()\n",
    "\n",
    "# store document index\n",
    "pickle_file = open(document_index_file_path, \"wb\")\n",
    "pickle.dump(document_dict, pickle_file)\n",
    "pickle_file.close()\n",
    "\n",
    "# store term frequency matrix\n",
    "pickle_file = open(inverted_index_file_path, \"wb\")\n",
    "pickle.dump(inverted_index_matrix, pickle_file)\n",
    "pickle_file.close()"
   ]
  },
  {
   "cell_type": "code",
   "execution_count": null,
   "metadata": {},
   "outputs": [],
   "source": []
  }
 ],
 "metadata": {
  "kernelspec": {
   "display_name": "Python 3",
   "language": "python",
   "name": "python3"
  },
  "language_info": {
   "codemirror_mode": {
    "name": "ipython",
    "version": 3
   },
   "file_extension": ".py",
   "mimetype": "text/x-python",
   "name": "python",
   "nbconvert_exporter": "python",
   "pygments_lexer": "ipython3",
   "version": "3.7.4"
  }
 },
 "nbformat": 4,
 "nbformat_minor": 2
}
