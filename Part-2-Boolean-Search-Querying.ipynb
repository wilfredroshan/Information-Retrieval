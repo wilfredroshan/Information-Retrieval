{
 "cells": [
  {
   "cell_type": "markdown",
   "metadata": {},
   "source": [
    "## This program is used to query the index with search terms"
   ]
  },
  {
   "cell_type": "code",
   "execution_count": 1,
   "metadata": {},
   "outputs": [],
   "source": [
    "from bs4 import BeautifulSoup\n",
    "import string\n",
    "import re\n",
    "from nltk.tokenize import word_tokenize\n",
    "from collections import Counter\n",
    "import matplotlib.pyplot as plt\n",
    "import nltk as nltk\n",
    "import numpy as np\n",
    "import pickle"
   ]
  },
  {
   "cell_type": "code",
   "execution_count": 2,
   "metadata": {},
   "outputs": [],
   "source": [
    "# set the input search queries\n",
    "common_nouns_query = \"irish language\"#\"American writer\"\n",
    "proper_nouns_query = \"Joy and Lewis\"\n",
    "rare_terms_query = \"tuomas Cosmos holopainen \" #lewis\"\n",
    "ambigous_query = \"\"\n",
    "complex_query = \"\"\n",
    "\n",
    "queries = [common_nouns_query, proper_nouns_query, rare_terms_query]"
   ]
  },
  {
   "cell_type": "code",
   "execution_count": 3,
   "metadata": {},
   "outputs": [],
   "source": [
    "# Read the pickled index file\n",
    "pickle_file_path = \".\\\\data\\\\index.pkl\"\n",
    "pickle_file = open(pickle_file_path, \"rb\")\n",
    "index_dict = pickle.load(pickle_file)\n",
    "pickle_file.close()\n",
    "\n",
    "# Read the pickled titles file\n",
    "pickle_file_path = \".\\\\data\\\\document_titles.pkl\"\n",
    "pickle_file = open(pickle_file_path, \"rb\")\n",
    "titles_dict = pickle.load(pickle_file)\n",
    "pickle_file.close()"
   ]
  },
  {
   "cell_type": "code",
   "execution_count": 4,
   "metadata": {},
   "outputs": [
    {
     "name": "stdout",
     "output_type": "stream",
     "text": [
      "Total number of unique words :  42040\n"
     ]
    }
   ],
   "source": [
    "total_number_of_unique_words = len(index_dict)\n",
    "print(\"Total number of unique words : \", total_number_of_unique_words)"
   ]
  },
  {
   "cell_type": "code",
   "execution_count": 5,
   "metadata": {},
   "outputs": [],
   "source": [
    "def find_documents(query):\n",
    "    documents = set()\n",
    "    tokens = word_tokenize(query.replace(\"\\n\", \" \").lower())\n",
    "    for token in tokens:\n",
    "        docs_with_token = index_dict.get(token)\n",
    "        print(token, \"=\", docs_with_token, \"\\n\")\n",
    "        if(len(documents) == 0):\n",
    "            documents = docs_with_token\n",
    "        else:\n",
    "            documents = documents.intersection(docs_with_token)\n",
    "    return documents"
   ]
  },
  {
   "cell_type": "code",
   "execution_count": 6,
   "metadata": {},
   "outputs": [
    {
     "name": "stdout",
     "output_type": "stream",
     "text": [
      "Query =  irish language \n",
      "\n",
      "irish = {'6561', '6698', '5830', '6816', '6719', '6466', '6571', '6675', '6514', '6677', '6532', '6761', '5826', '6771', '6643', '6546', '5829', '5833', '6713', '6645', '6673', '6678', '6501', '5813', '6784'} \n",
      "\n",
      "language = {'6561', '6742', '6745', '6698', '5830', '6542', '6734', '5822', '6526', '6571', '6777', '6600', '6704', '6599', '6433', '6799', '5823', '6469', '6514', '6677', '6532', '6753', '6695', '6443', '6761', '6724', '6653', '6462', '6667', '6604', '6787', '6759', '6583', '6546', '6513', '6643', '6566', '6591', '6613', '6555', '6533', '6721', '6715', '6678', '6501', '6623', '5813', '6359', '6449', '6644', '6716', '5820', '5844', '6822'} \n",
      "\n",
      "Document matching query = irish language\n",
      "Document ID =  6561  Title =  Columba\n",
      "Document ID =  6571  Title =  Cimbri\n",
      "Document ID =  6698  Title =  CamelCase\n",
      "Document ID =  5830  Title =  County Mayo\n",
      "Document ID =  6643  Title =  Croquet\n",
      "Document ID =  6546  Title =  Celts\n",
      "Document ID =  6678  Title =  Cat\n",
      "Document ID =  6501  Title =  Columbanus\n",
      "Document ID =  5813  Title =  C. S. Lewis\n",
      "Document ID =  6514  Title =  County Dublin\n",
      "Document ID =  6677  Title =  Classical liberalism\n",
      "Document ID =  6532  Title =  Charlotte Brontë\n",
      "Document ID =  6761  Title =  Unitary patent\n",
      "\n",
      "\n",
      "\n",
      "Query =  Joy and Lewis \n",
      "\n",
      "joy = {'6652', '6548', '5813', '6611', '6435'} \n",
      "\n",
      "and = {'6767', '6459', '5820', '6440', '6652', '6651', '6596', '6562', '6451', '6696', '6420', '6611', '6690', '6776', '6452', '6655', '6736', '6627', '6426', '5851', '6728', '5846', '6543', '6592', '6672', '6653', '6462', '6806', '6446', '6456', '5826', '6804', '6583', '6814', '6555', '6813', '6689', '6697', '6438', '6458', '6579', '5836', '6666', '6445', '5844', '6746', '6775', '6720', '6620', '5814', '6427', '6731', '6698', '5830', '6530', '6607', '6769', '6362', '6734', '6466', '6629', '6777', '6635', '5828', '6710', '6599', '6788', '6695', '6443', '6517', '6787', '6771', '6821', '6778', '5845', '6513', '6669', '6656', '6613', '6576', '6556', '6654', '5833', '6751', '6614', '6365', '6537', '6516', '6557', '6520', '6678', '6435', '6610', '6597', '6437', '6559', '6684', '6780', '6429', '6512', '6505', '6760', '6432', '6700', '6747', '5849', '6816', '5853', '6639', '6612', '6749', '5841', '6569', '5822', '6719', '6526', '6590', '6558', '6675', '6630', '6725', '5839', '6704', '6357', '6535', '6670', '5823', '6677', '6532', '6753', '6693', '6671', '6364', '6761', '6774', '6468', '6763', '6366', '6667', '6371', '6416', '6617', '6566', '6546', '6586', '5829', '6539', '5850', '6434', '6739', '6715', '6796', '5813', '6423', '6367', '6431', '6644', '6762', '6359', '6724', '6563', '6822', '6818', '6561', '6436', '6742', '5816', '6621', '6773', '6745', '6424', '6794', '6542', '5838', '6660', '5843', '5840', '6571', '6811', '6421', '6589', '6600', '6548', '6433', '6799', '6469', '6628', '6766', '6781', '6514', '6503', '6587', '6604', '6759', '6363', '6801', '6643', '5848', '6631', '6591', '6713', '6645', '6673', '6682', '6533', '6824', '6721', '6598', '5855', '6752', '6552', '6501', '6641', '6623', '6615', '6449', '6585', '6716', '6823', '6508', '6784', '6663'} \n",
      "\n",
      "lewis = {'6533', '6652', '6710', '5813', '6452', '6612', '6671', '6503', '6719'} \n",
      "\n",
      "Document matching query = Joy and Lewis\n",
      "Document ID =  6652  Title =  Cleveland Indians\n",
      "Document ID =  5813  Title =  C. S. Lewis\n",
      "\n",
      "\n",
      "\n",
      "Query =  tuomas Cosmos holopainen  \n",
      "\n",
      "tuomas = {'6824'} \n",
      "\n",
      "cosmos = {'6824', '6459', '6516', '5813', '5820'} \n",
      "\n",
      "holopainen = {'6824'} \n",
      "\n",
      "Document matching query = tuomas Cosmos holopainen \n",
      "Document ID =  6824  Title =  Carl Sagan\n",
      "\n",
      "\n",
      "\n"
     ]
    }
   ],
   "source": [
    "# common noun query\n",
    "for q in queries:\n",
    "    print(\"Query = \", q, \"\\n\")\n",
    "    docs = find_documents(q)\n",
    "    print(\"Document matching query =\", q)\n",
    "    for doc_id in docs:\n",
    "        title = titles_dict.get(doc_id)\n",
    "        print(\"Document ID = \", doc_id, \" Title = \", title)\n",
    "    print(\"\\n\\n\")"
   ]
  },
  {
   "cell_type": "code",
   "execution_count": null,
   "metadata": {},
   "outputs": [],
   "source": []
  }
 ],
 "metadata": {
  "kernelspec": {
   "display_name": "Python 3",
   "language": "python",
   "name": "python3"
  },
  "language_info": {
   "codemirror_mode": {
    "name": "ipython",
    "version": 3
   },
   "file_extension": ".py",
   "mimetype": "text/x-python",
   "name": "python",
   "nbconvert_exporter": "python",
   "pygments_lexer": "ipython3",
   "version": "3.7.4"
  }
 },
 "nbformat": 4,
 "nbformat_minor": 2
}
