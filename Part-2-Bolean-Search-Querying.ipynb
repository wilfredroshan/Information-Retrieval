{
 "cells": [
  {
   "cell_type": "markdown",
   "metadata": {},
   "source": [
    "## This program is used to query the index with search terms"
   ]
  },
  {
   "cell_type": "code",
   "execution_count": 1,
   "metadata": {},
   "outputs": [],
   "source": [
    "from bs4 import BeautifulSoup\n",
    "import string\n",
    "import re\n",
    "from nltk.tokenize import word_tokenize\n",
    "from collections import Counter\n",
    "import matplotlib.pyplot as plt\n",
    "import nltk as nltk\n",
    "import numpy as np\n",
    "import pickle"
   ]
  },
  {
   "cell_type": "code",
   "execution_count": 2,
   "metadata": {},
   "outputs": [],
   "source": [
    "# set the input search queries\n",
    "common_nouns_query = \"irish language\"#\"American writer\" #\"church of england\"\n",
    "proper_nouns_query = \"Joy and Lewis\"\n",
    "rare_terms_query = \"\"\n",
    "ambigous_query = \"\"\n",
    "complex_query = \"\"\n",
    "\n",
    "queries = [common_nouns_query, proper_nouns_query]"
   ]
  },
  {
   "cell_type": "code",
   "execution_count": 3,
   "metadata": {},
   "outputs": [],
   "source": [
    "# Read the pickled index file\n",
    "pickle_file_path = \".\\\\data\\\\index.pkl\"\n",
    "pickle_file = open(pickle_file_path, \"rb\")\n",
    "index_dict = pickle.load(pickle_file)\n",
    "pickle_file.close()"
   ]
  },
  {
   "cell_type": "code",
   "execution_count": 4,
   "metadata": {},
   "outputs": [
    {
     "name": "stdout",
     "output_type": "stream",
     "text": [
      "Total number of unique words :  42040\n"
     ]
    }
   ],
   "source": [
    "total_number_of_unique_words = len(index_dict)\n",
    "print(\"Total number of unique words : \", total_number_of_unique_words)"
   ]
  },
  {
   "cell_type": "code",
   "execution_count": 5,
   "metadata": {},
   "outputs": [],
   "source": [
    "def find_documents(query):\n",
    "    documents = set()\n",
    "    tokens = word_tokenize(query.replace(\"\\n\", \" \").lower())\n",
    "    for token in tokens:\n",
    "        print(token)\n",
    "        docs_with_token = index_dict.get(token)\n",
    "        print(docs_with_token)\n",
    "        if(len(documents) == 0):\n",
    "            documents = docs_with_token\n",
    "        else:\n",
    "            documents = documents.intersection(docs_with_token)\n",
    "    return documents"
   ]
  },
  {
   "cell_type": "code",
   "execution_count": 6,
   "metadata": {},
   "outputs": [],
   "source": [
    "def compute_vector_space_score(document, query):\n",
    "    pass"
   ]
  },
  {
   "cell_type": "code",
   "execution_count": 7,
   "metadata": {},
   "outputs": [
    {
     "name": "stdout",
     "output_type": "stream",
     "text": [
      "irish\n",
      "{'6501', '6645', '5829', '5833', '6719', '6571', '6678', '6675', '6643', '6698', '6816', '5826', '6761', '6514', '6561', '6546', '6713', '6677', '6784', '6771', '6673', '6466', '6532', '5830', '5813'}\n",
      "language\n",
      "{'6462', '6526', '6644', '6501', '6623', '6742', '6745', '5822', '6600', '6571', '6443', '6678', '6715', '6613', '5844', '6469', '6566', '6653', '6643', '6698', '6787', '6591', '6759', '6716', '6761', '5823', '5820', '6514', '6667', '6561', '6542', '6721', '6546', '6433', '6677', '6799', '6513', '6704', '6753', '6604', '6724', '6532', '6359', '5830', '6533', '6777', '6449', '6734', '6583', '6599', '5813', '6695', '6822', '6555'}\n",
      "Intersection for  irish language {'6501', '6561', '6546', '6643', '6698', '6677', '6532', '5830', '6571', '6678', '6761', '5813', '6514'}\n",
      "joy\n",
      "{'6611', '6548', '6652', '6435', '5813'}\n",
      "and\n",
      "{'6501', '6548', '6775', '6557', '6600', '6739', '6435', '5841', '6571', '6620', '6678', '6421', '5844', '5846', '6611', '6596', '6720', '6589', '6663', '6806', '6814', '6520', '6539', '6747', '6716', '6761', '5820', '6612', '5853', '5855', '5836', '6424', '5843', '6801', '6433', '5845', '6811', '5848', '6615', '6563', '6771', '6780', '6445', '6700', '6767', '6357', '6437', '6466', '6562', '6760', '6440', '6641', '6359', '6693', '6777', '6734', '6530', '6672', '6822', '5822', '6503', '6526', '6742', '6592', '6512', '6804', '6745', '6689', '6818', '5829', '6774', '5833', '6443', '6715', '6446', '6654', '6675', '6516', '6431', '6794', '6452', '6787', '6671', '6362', '5814', '6561', '6796', '6651', '6713', '6513', '6784', '6704', '6769', '6781', '6673', '6631', '6753', '6670', '6746', '6576', '6505', '6736', '6652', '6690', '6579', '6587', '6599', '6363', '6537', '6623', '6669', '6725', '6821', '6367', '5840', '6556', '6610', '5828', '6569', '5850', '5851', '6613', '6752', '6508', '6427', '6566', '6816', '6438', '5826', '6371', '6366', '6365', '6590', '6639', '5839', '6635', '5816', '6420', '6546', '6552', '6535', '6426', '6731', '6432', '6629', '6751', '6684', '6604', '6559', '6436', '6533', '6449', '6583', '6459', '6655', '6364', '6695', '6555', '6462', '6644', '6645', '6586', '6788', '6628', '6823', '6558', '6696', '6617', '5849', '6451', '6719', '6682', '6598', '6749', '6766', '6627', '6813', '6469', '6630', '6643', '6698', '6591', '6759', '6660', '5823', '6585', '6614', '6607', '6514', '6666', '6667', '6762', '5813', '6710', '6542', '6721', '6597', '6677', '6799', '6778', '6763', '6517', '6697', '6416', '6456', '6824', '6656', '6429', '6543', '6434', '6458', '6724', '6532', '6423', '6468', '5830', '6621', '6773', '5838', '6776', '6728', '6653'}\n",
      "lewis\n",
      "{'6503', '6710', '6652', '6452', '6533', '6719', '6671', '5813', '6612'}\n",
      "Intersection for  Joy and Lewis {'5813', '6652'}\n"
     ]
    }
   ],
   "source": [
    "# common noun query\n",
    "for q in queries:\n",
    "    docs = find_documents(q)\n",
    "    print(\"Intersection for \", q, docs)"
   ]
  },
  {
   "cell_type": "code",
   "execution_count": null,
   "metadata": {},
   "outputs": [],
   "source": []
  }
 ],
 "metadata": {
  "kernelspec": {
   "display_name": "Python 3",
   "language": "python",
   "name": "python3"
  },
  "language_info": {
   "codemirror_mode": {
    "name": "ipython",
    "version": 3
   },
   "file_extension": ".py",
   "mimetype": "text/x-python",
   "name": "python",
   "nbconvert_exporter": "python",
   "pygments_lexer": "ipython3",
   "version": "3.7.4"
  }
 },
 "nbformat": 4,
 "nbformat_minor": 2
}
