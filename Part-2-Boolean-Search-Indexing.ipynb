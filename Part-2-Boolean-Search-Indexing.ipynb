{
 "cells": [
  {
   "cell_type": "markdown",
   "metadata": {},
   "source": [
    "## This program is used to parse input document corpus, create index and store it in a file"
   ]
  },
  {
   "cell_type": "code",
   "execution_count": 1,
   "metadata": {},
   "outputs": [],
   "source": [
    "from bs4 import BeautifulSoup\n",
    "import string\n",
    "import re\n",
    "from nltk.tokenize import word_tokenize\n",
    "from collections import Counter\n",
    "import matplotlib.pyplot as plt\n",
    "import nltk as nltk\n",
    "import numpy as np\n",
    "import pickle"
   ]
  },
  {
   "cell_type": "markdown",
   "metadata": {},
   "source": [
    "# import the text corpora from disk and perform pre-processing steps"
   ]
  },
  {
   "cell_type": "code",
   "execution_count": 2,
   "metadata": {},
   "outputs": [],
   "source": [
    "input_file = open(\".\\\\data\\\\wiki_05\", \"rt\", encoding=\"utf-8\")\n",
    "input_data = input_file.read()\n",
    "input_file.close()"
   ]
  },
  {
   "cell_type": "markdown",
   "metadata": {},
   "source": [
    "# Remove html and other tags."
   ]
  },
  {
   "cell_type": "code",
   "execution_count": 3,
   "metadata": {},
   "outputs": [],
   "source": [
    "souped_data = BeautifulSoup(input_data)"
   ]
  },
  {
   "cell_type": "markdown",
   "metadata": {},
   "source": [
    "# Generate index using dictionary and set data structures"
   ]
  },
  {
   "cell_type": "code",
   "execution_count": 4,
   "metadata": {},
   "outputs": [],
   "source": [
    "# Step 1: find all unique words in all documents.\n",
    "index_dict = dict()\n",
    "title_dict = dict()\n",
    "for doc in souped_data.find_all('doc'):\n",
    "    doc_id = doc['id']\n",
    "    # Remove html and other tags.\n",
    "    doc_data = re.sub(r'[^\\w\\s]', ' ', doc.get_text().replace(\"\\n\", \" \").lower())\n",
    "    # Tokenize the text. This will get rid of extra spaces as well.\n",
    "    tokens = word_tokenize(doc_data)\n",
    "    for token in tokens:\n",
    "        if index_dict.get(token) is None:\n",
    "            index_dict[token] = set()\n",
    "        doc_set = index_dict[token]\n",
    "        doc_set.add(doc_id)\n",
    "    # add document title to dictionary\n",
    "    title_dict[doc_id] = doc['title']"
   ]
  },
  {
   "cell_type": "markdown",
   "metadata": {},
   "source": [
    "# Store the index in a file"
   ]
  },
  {
   "cell_type": "code",
   "execution_count": 5,
   "metadata": {},
   "outputs": [],
   "source": [
    "pickle_file_path = \".\\\\data\\\\index.pkl\"\n",
    "pickle_file = open(pickle_file_path, \"wb\")\n",
    "pickle.dump(index_dict, pickle_file)\n",
    "pickle_file.close()"
   ]
  },
  {
   "cell_type": "code",
   "execution_count": 6,
   "metadata": {},
   "outputs": [],
   "source": [
    "pickle_file_path = \".\\\\data\\\\document_titles.pkl\"\n",
    "pickle_file = open(pickle_file_path, \"wb\")\n",
    "pickle.dump(title_dict, pickle_file)\n",
    "pickle_file.close()"
   ]
  },
  {
   "cell_type": "code",
   "execution_count": null,
   "metadata": {},
   "outputs": [],
   "source": []
  }
 ],
 "metadata": {
  "kernelspec": {
   "display_name": "Python 3",
   "language": "python",
   "name": "python3"
  },
  "language_info": {
   "codemirror_mode": {
    "name": "ipython",
    "version": 3
   },
   "file_extension": ".py",
   "mimetype": "text/x-python",
   "name": "python",
   "nbconvert_exporter": "python",
   "pygments_lexer": "ipython3",
   "version": "3.7.4"
  }
 },
 "nbformat": 4,
 "nbformat_minor": 2
}
